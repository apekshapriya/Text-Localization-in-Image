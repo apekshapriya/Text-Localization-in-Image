{
 "cells": [
  {
   "cell_type": "code",
   "execution_count": null,
   "metadata": {},
   "outputs": [],
   "source": [
    "import glob\n",
    "from tqdm import tqdm\n",
    "import os\n",
    "import pandas as pd\n",
    "import cv2"
   ]
  },
  {
   "cell_type": "markdown",
   "metadata": {},
   "source": [
    "## paths:\n",
    "5. Text files containing name and cordinates of images.\n",
    "1. csv file consisting of image name and its corresponding \"xmin\",\"ymin\",\"xmax\", \"ymax\" cordinates\n",
    "2. dir containing input images\n",
    "3. white images created by input images consisting of 1 pixels\n",
    "4. masked images consisting of black pixels wherever text is found(that will be created after preprocessing)"
   ]
  },
  {
   "cell_type": "code",
   "execution_count": null,
   "metadata": {},
   "outputs": [],
   "source": [
    "csv_path = os.path.join(Project_path, \"data/csv_files/data_xml.csv\")\n",
    "image_dir = os.path.join(Project_path, \"data/input_images/\")\n",
    "images_white_dir = os.path.join(Project_path, \"data/white_images/\")\n",
    "labelled_images_masked = os.path.join(Project_path, \"data/labelled_masked_images/\")\n",
    "text_files = glob.glob((\"data/*.txt\"))"
   ]
  },
  {
   "cell_type": "markdown",
   "metadata": {},
   "source": [
    "## converts xml file in csv format"
   ]
  },
  {
   "cell_type": "code",
   "execution_count": null,
   "metadata": {},
   "outputs": [],
   "source": [
    "def xml_to_csv():\n",
    "    data = pd.DataFrame(columns=[[\"filename\",\"xmin\",\"ymin\",\"xmax\", \"ymax\"]])\n",
    "    for text_file in text_files:\n",
    "        name_file = text_file.split(\"/\")[-1].split(\".\")[0][3:]\n",
    "\n",
    "        with open(text_file,\"r\") as f:\n",
    "            text = f.readlines()\n",
    "        for line in text:\n",
    "            cordinates = line.split(\",\")\n",
    "            xmin, ymin, xmax, ymax = cordinates[0], cordinates[1], cordinates[2], cordinates[3]\n",
    "            data.loc[-1] = [name_file+\".jpg\", xmin, ymin, xmax, ymax]  # adding a row\n",
    "            data.index = data.index + 1  # shifting index\n",
    "            data = data.sort_index()\n",
    "    data.to_csv(csv_path)"
   ]
  },
  {
   "cell_type": "markdown",
   "metadata": {},
   "source": [
    "## convert all input images pixels to white pixels"
   ]
  },
  {
   "cell_type": "code",
   "execution_count": null,
   "metadata": {},
   "outputs": [],
   "source": [
    "def convert_pixel(imag_dir):\n",
    "    images = glob.glob(os.path.join(image_dir,\"*\"))\n",
    "    for image_file in tqdm(images):\n",
    "        print image_file\n",
    "        image_name = image_file.split(\"/\")[-1]\n",
    "        print image_name\n",
    "        image = cv2.imread(image_file)\n",
    "        print image.shape\n",
    "        for x in range(image.shape[0]):\n",
    "            for y in range(image.shape[1]):\n",
    "\n",
    "                image[x,y] = (255,255,255)\n",
    "        cv2.imwrite(os.path.join(images_white_dir, image_name), image)\n",
    "convert_pixel(image_dir)"
   ]
  },
  {
   "cell_type": "markdown",
   "metadata": {},
   "source": [
    "## mask the pixels to 0 wherever text is present(given by cordinates for images)"
   ]
  },
  {
   "cell_type": "code",
   "execution_count": null,
   "metadata": {},
   "outputs": [],
   "source": [
    "def mask_text_pixel(csv_path, subdir):\n",
    "    data = pd.read_csv(csv_path)\n",
    "    images = glob.glob(os.path.join(images_white_dir, subdir,\"*\"))\n",
    "\n",
    "    for image_path in tqdm(images):\n",
    "    \n",
    "        image_name = image_path.split(\"/\")[-1]\n",
    "        image = cv2.imread(image_path, cv2.IMREAD_COLOR)\n",
    "        print image_name\n",
    "        cordinates = data.loc[data['filename'] == image_name,['xmin','xmax','ymin','ymax']]\n",
    "        print cordinates\n",
    "        try:\n",
    "            for index, row in cordinates.iterrows():\n",
    "                xmin = row['xmin']\n",
    "                xmax = row['xmax']\n",
    "                ymin = row['ymin']\n",
    "                ymax = row['ymax']\n",
    "                y_len = ymax-ymin\n",
    "                x_len = xmax-xmin\n",
    "                print xmin, xmax, \"x\"\n",
    "                print ymin,ymax,\"y\"\n",
    "                for x in range(xmin,xmax):\n",
    "                    i = 0\n",
    "    #                 print \"x\",x\n",
    "                    for y in range(ymin,ymax):\n",
    "                        image[y,x] = (0,0,0)\n",
    "    #                     print y\n",
    "                        i=i+1\n",
    "    #                 xmin = xmin +1\n",
    "\n",
    "            cv2.imwrite(os.path.join(labelled_images_masked,subdir, image_name), image)\n",
    "        except:\n",
    "            print image_name\n",
    "            print image.shape,\"image_shape\"\n",
    "            print \n",
    "\n",
    "mask_text_pixel(os.path.join(test_csv_path),\"\")                         "
   ]
  },
  {
   "cell_type": "markdown",
   "metadata": {},
   "source": [
    "## rough work"
   ]
  },
  {
   "cell_type": "code",
   "execution_count": null,
   "metadata": {},
   "outputs": [],
   "source": [
    "# def convert_pixel(csv_path, sub_dir):\n",
    "#     data = pd.read_csv(csv_path)\n",
    "    \n",
    "#     for index,row in tqdm(data.iterrows()):\n",
    "#         image_ext = \"\"\n",
    "#         print row['filename']\n",
    "#         if (not os.path.exists(os.path.join(images_white_dir,sub_dir,row['filename']+image_ext))) and (not os.path.exists(os.path.join(images_white_dir,sub_dir,row['filename']+image_ext))): \n",
    "            \n",
    "#             if os.path.exists(os.path.join(image_dir,sub_dir,row['filename'] + \".jpg\")):\n",
    "# #             if os.path.exists ('/Challenge1_Training_Task12_Images/img_1.jpg'):\n",
    "#                 image_ext = \".jpg\"\n",
    "#                 print \"yes\"\n",
    "#             elif os.path.exists(os.path.join(image_dir, sub_dir, row['filename'] + \".png\")):\n",
    "#                 image_ext = \".png\"\n",
    "#                 print \"no\"\n",
    "#             image = cv2.imread(os.path.join(image_dir,row['filename']+image_ext), cv2.IMREAD_COLOR)\n",
    "            \n",
    "#             for x in range(image.shape[0]):\n",
    "#                 for y in range(image.shape[1]):\n",
    "\n",
    "#                     image[x,y] = (255,255,255)\n",
    "\n",
    "#             cv2.imwrite(os.path.join(images_white_dir, sub_dir, row['filename'] + image_ext), image)\n",
    "        \n",
    "# convert_pixel(test_csv_path,'')     \n"
   ]
  }
 ],
 "metadata": {
  "kernelspec": {
   "display_name": "Python 2",
   "language": "python",
   "name": "python2"
  },
  "language_info": {
   "codemirror_mode": {
    "name": "ipython",
    "version": 2
   },
   "file_extension": ".py",
   "mimetype": "text/x-python",
   "name": "python",
   "nbconvert_exporter": "python",
   "pygments_lexer": "ipython2",
   "version": "2.7.12"
  }
 },
 "nbformat": 4,
 "nbformat_minor": 2
}
